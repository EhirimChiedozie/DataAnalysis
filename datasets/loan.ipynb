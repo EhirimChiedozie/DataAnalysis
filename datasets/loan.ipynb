{
 "cells": [
  {
   "cell_type": "code",
   "execution_count": 27,
   "metadata": {},
   "outputs": [],
   "source": [
    "import pandas\n",
    "from matplotlib import pyplot as plt\n",
    "from collections import Counter"
   ]
  },
  {
   "cell_type": "code",
   "execution_count": 6,
   "metadata": {},
   "outputs": [],
   "source": [
    "df = pandas.read_csv('datasets/LoansDataset.csv')"
   ]
  },
  {
   "cell_type": "code",
   "execution_count": 8,
   "metadata": {},
   "outputs": [
    {
     "data": {
      "text/html": [
       "<div>\n",
       "<style scoped>\n",
       "    .dataframe tbody tr th:only-of-type {\n",
       "        vertical-align: middle;\n",
       "    }\n",
       "\n",
       "    .dataframe tbody tr th {\n",
       "        vertical-align: top;\n",
       "    }\n",
       "\n",
       "    .dataframe thead th {\n",
       "        text-align: right;\n",
       "    }\n",
       "</style>\n",
       "<table border=\"1\" class=\"dataframe\">\n",
       "  <thead>\n",
       "    <tr style=\"text-align: right;\">\n",
       "      <th></th>\n",
       "      <th>customer_id</th>\n",
       "      <th>customer_age</th>\n",
       "      <th>customer_income</th>\n",
       "      <th>home_ownership</th>\n",
       "      <th>employment_duration</th>\n",
       "      <th>loan_intent</th>\n",
       "      <th>loan_grade</th>\n",
       "      <th>loan_amnt</th>\n",
       "      <th>loan_int_rate</th>\n",
       "      <th>term_years</th>\n",
       "      <th>historical_default</th>\n",
       "      <th>cred_hist_length</th>\n",
       "      <th>Current_loan_status</th>\n",
       "    </tr>\n",
       "  </thead>\n",
       "  <tbody>\n",
       "    <tr>\n",
       "      <th>0</th>\n",
       "      <td>1.0</td>\n",
       "      <td>22</td>\n",
       "      <td>59000</td>\n",
       "      <td>RENT</td>\n",
       "      <td>123.0</td>\n",
       "      <td>PERSONAL</td>\n",
       "      <td>C</td>\n",
       "      <td>£35,000.00</td>\n",
       "      <td>16.02</td>\n",
       "      <td>10</td>\n",
       "      <td>Y</td>\n",
       "      <td>3</td>\n",
       "      <td>DEFAULT</td>\n",
       "    </tr>\n",
       "    <tr>\n",
       "      <th>1</th>\n",
       "      <td>2.0</td>\n",
       "      <td>21</td>\n",
       "      <td>9600</td>\n",
       "      <td>OWN</td>\n",
       "      <td>5.0</td>\n",
       "      <td>EDUCATION</td>\n",
       "      <td>A</td>\n",
       "      <td>£1,000.00</td>\n",
       "      <td>11.14</td>\n",
       "      <td>1</td>\n",
       "      <td>NaN</td>\n",
       "      <td>2</td>\n",
       "      <td>NO DEFAULT</td>\n",
       "    </tr>\n",
       "    <tr>\n",
       "      <th>2</th>\n",
       "      <td>3.0</td>\n",
       "      <td>25</td>\n",
       "      <td>9600</td>\n",
       "      <td>MORTGAGE</td>\n",
       "      <td>1.0</td>\n",
       "      <td>MEDICAL</td>\n",
       "      <td>B</td>\n",
       "      <td>£5,500.00</td>\n",
       "      <td>12.87</td>\n",
       "      <td>5</td>\n",
       "      <td>N</td>\n",
       "      <td>3</td>\n",
       "      <td>DEFAULT</td>\n",
       "    </tr>\n",
       "    <tr>\n",
       "      <th>3</th>\n",
       "      <td>4.0</td>\n",
       "      <td>23</td>\n",
       "      <td>65500</td>\n",
       "      <td>RENT</td>\n",
       "      <td>4.0</td>\n",
       "      <td>MEDICAL</td>\n",
       "      <td>B</td>\n",
       "      <td>£35,000.00</td>\n",
       "      <td>15.23</td>\n",
       "      <td>10</td>\n",
       "      <td>N</td>\n",
       "      <td>2</td>\n",
       "      <td>DEFAULT</td>\n",
       "    </tr>\n",
       "    <tr>\n",
       "      <th>4</th>\n",
       "      <td>5.0</td>\n",
       "      <td>24</td>\n",
       "      <td>54400</td>\n",
       "      <td>RENT</td>\n",
       "      <td>8.0</td>\n",
       "      <td>MEDICAL</td>\n",
       "      <td>B</td>\n",
       "      <td>£35,000.00</td>\n",
       "      <td>14.27</td>\n",
       "      <td>10</td>\n",
       "      <td>Y</td>\n",
       "      <td>4</td>\n",
       "      <td>DEFAULT</td>\n",
       "    </tr>\n",
       "  </tbody>\n",
       "</table>\n",
       "</div>"
      ],
      "text/plain": [
       "   customer_id  customer_age customer_income home_ownership  \\\n",
       "0          1.0            22           59000           RENT   \n",
       "1          2.0            21            9600            OWN   \n",
       "2          3.0            25            9600       MORTGAGE   \n",
       "3          4.0            23           65500           RENT   \n",
       "4          5.0            24           54400           RENT   \n",
       "\n",
       "   employment_duration loan_intent loan_grade   loan_amnt  loan_int_rate  \\\n",
       "0                123.0    PERSONAL          C  £35,000.00          16.02   \n",
       "1                  5.0   EDUCATION          A   £1,000.00          11.14   \n",
       "2                  1.0     MEDICAL          B   £5,500.00          12.87   \n",
       "3                  4.0     MEDICAL          B  £35,000.00          15.23   \n",
       "4                  8.0     MEDICAL          B  £35,000.00          14.27   \n",
       "\n",
       "   term_years historical_default  cred_hist_length Current_loan_status  \n",
       "0          10                  Y                 3             DEFAULT  \n",
       "1           1                NaN                 2          NO DEFAULT  \n",
       "2           5                  N                 3             DEFAULT  \n",
       "3          10                  N                 2             DEFAULT  \n",
       "4          10                  Y                 4             DEFAULT  "
      ]
     },
     "execution_count": 8,
     "metadata": {},
     "output_type": "execute_result"
    }
   ],
   "source": [
    "df.head()"
   ]
  },
  {
   "cell_type": "code",
   "execution_count": 32,
   "metadata": {},
   "outputs": [],
   "source": [
    "ages_borrowing = df['customer_age'].value_counts().head(50)"
   ]
  },
  {
   "cell_type": "code",
   "execution_count": 26,
   "metadata": {},
   "outputs": [],
   "source": [
    "ages = []\n",
    "for i in df['customer_age']:\n",
    "    if i not in ages:\n",
    "        ages.append(i)\n",
    "ages.sort()"
   ]
  },
  {
   "cell_type": "code",
   "execution_count": 39,
   "metadata": {},
   "outputs": [
    {
     "data": {
      "text/plain": [
       "[1,\n",
       " 1,\n",
       " 1,\n",
       " 15,\n",
       " 1230,\n",
       " 3634,\n",
       " 3890,\n",
       " 3549,\n",
       " 3038,\n",
       " 2477,\n",
       " 2138,\n",
       " 1854,\n",
       " 1687,\n",
       " 1316,\n",
       " 1142,\n",
       " 964,\n",
       " 856,\n",
       " 709,\n",
       " 620,\n",
       " 546,\n",
       " 478,\n",
       " 372,\n",
       " 302,\n",
       " 271,\n",
       " 241,\n",
       " 188,\n",
       " 163,\n",
       " 142,\n",
       " 108,\n",
       " 94,\n",
       " 95,\n",
       " 75,\n",
       " 49,\n",
       " 52,\n",
       " 39,\n",
       " 36,\n",
       " 30,\n",
       " 24,\n",
       " 20,\n",
       " 15,\n",
       " 15,\n",
       " 19,\n",
       " 5,\n",
       " 15,\n",
       " 9,\n",
       " 7,\n",
       " 3,\n",
       " 7,\n",
       " 9,\n",
       " 8,\n",
       " 1,\n",
       " 5,\n",
       " 7,\n",
       " 3,\n",
       " 1,\n",
       " 1,\n",
       " 1,\n",
       " 1,\n",
       " 1,\n",
       " 1,\n",
       " 2,\n",
       " 3]"
      ]
     },
     "execution_count": 39,
     "metadata": {},
     "output_type": "execute_result"
    }
   ],
   "source": [
    "borrowing_instances = [list(df['customer_age']).count(age) for age in ages]\n",
    "borrowing_instances"
   ]
  },
  {
   "cell_type": "code",
   "execution_count": 46,
   "metadata": {},
   "outputs": [
    {
     "data": {
      "image/png": "[encoded data removed]",
      "text/plain": [
       "<Figure size 640x480 with 1 Axes>"
      ]
     },
     "metadata": {},
     "output_type": "display_data"
    }
   ],
   "source": [
    "tick_positions = ages\n",
    "tick_labels = range(1, len(tick_positions) + 1)\n",
    "\n",
    "# Setting the x-axis ticks\n",
    "plt.xticks(tick_positions, tick_labels)\n",
    "plt.bar(ages, borrowing_instances)\n",
    "plt.xticks(rotation=45)\n",
    "plt.show()"
   ]
  }
 ],
 "metadata": {
  "kernelspec": {
   "display_name": "Python 3",
   "language": "python",
   "name": "python3"
  },
  "language_info": {
   "codemirror_mode": {
    "name": "ipython",
    "version": 3
   },
   "file_extension": ".py",
   "mimetype": "text/x-python",
   "name": "python",
   "nbconvert_exporter": "python",
   "pygments_lexer": "ipython3",
   "version": "3.12.0"
  }
 },
 "nbformat": 4,
 "nbformat_minor": 2
}
